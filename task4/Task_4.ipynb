{
 "cells": [
  {
   "cell_type": "code",
   "execution_count": 12,
   "metadata": {
    "collapsed": false
   },
   "outputs": [],
   "source": [
    "%matplotlib inline\n",
    "import cv2\n",
    "import numpy as np\n",
    "import os\n",
    "import matplotlib.pyplot as plt\n",
    "import csv\n",
    "import plotly\n",
    "from plotly.graph_objs import Scatter, Layout\n",
    "import time\n",
    "import imageio"
   ]
  },
  {
   "cell_type": "code",
   "execution_count": 13,
   "metadata": {
    "collapsed": false
   },
   "outputs": [
    {
     "data": {
      "text/html": [
       "<script>requirejs.config({paths: { 'plotly': ['https://cdn.plot.ly/plotly-latest.min']},});if(!window.Plotly) {{require(['plotly'],function(plotly) {window.Plotly=plotly;});}}</script>"
      ],
      "text/vnd.plotly.v1+html": [
       "<script>requirejs.config({paths: { 'plotly': ['https://cdn.plot.ly/plotly-latest.min']},});if(!window.Plotly) {{require(['plotly'],function(plotly) {window.Plotly=plotly;});}}</script>"
      ]
     },
     "metadata": {},
     "output_type": "display_data"
    }
   ],
   "source": [
    "WORKING_DIR = '.' #os.path.dirname(__file__)\n",
    "\n",
    "DATA_DIR = os.path.join(WORKING_DIR, 'data')\n",
    "OUTPUT_FILE = os.path.join(WORKING_DIR, 'motionVectors.csv')"
   ]
  },
  {
   "cell_type": "code",
   "execution_count": 14,
   "metadata": {
    "collapsed": true
   },
   "outputs": [],
   "source": [
    "input_imgs = [cv2.imread(os.path.join(DATA_DIR, name), 0) for name in os.listdir(DATA_DIR)]"
   ]
  },
  {
   "cell_type": "code",
   "execution_count": 15,
   "metadata": {
    "collapsed": true
   },
   "outputs": [],
   "source": [
    "def show_img(img):\n",
    "    plt.axis('off')\n",
    "    plt.imshow(img, cmap = 'gray')"
   ]
  },
  {
   "cell_type": "code",
   "execution_count": 32,
   "metadata": {
    "collapsed": false
   },
   "outputs": [],
   "source": [
    "class MotionTracker:\n",
    "    \n",
    "    def __init__(self, frames, before_gif, after_gif):\n",
    "        self.frames = frames\n",
    "        self.motion_vectors = []\n",
    "        self.relative_motion_vectors = []\n",
    "        self.frame_processing_time = []\n",
    "        self.calculate_vectors()\n",
    "        self.shifted_frames = []\n",
    "        self.shift_frames()\n",
    "        self.save_imgs_in_gif(before_gif, frames)\n",
    "        self.save_imgs_in_gif(after_gif, self.shifted_frames)\n",
    "    \n",
    "    def calculate_vectors(self):\n",
    "        global_shift = np.array([.0, .0])\n",
    "        start_time = time.time()\n",
    "        for i in range(len(self.frames)-1):\n",
    "            self.relative_motion_vectors.append(self.get_relative_vec(self.frames[i], self.frames[i+1]))\n",
    "            global_shift += self.relative_motion_vectors[-1]\n",
    "            self.motion_vectors.append(np.copy(global_shift))\n",
    "            self.frame_processing_time.append(time.time() - start_time)\n",
    "    \n",
    "    @staticmethod\n",
    "    def get_relative_vec(img1, img2):\n",
    "        # Find the keypoints and descriptors with ORB\n",
    "        orb = cv2.ORB_create()\n",
    "        kp1, des1 = orb.detectAndCompute(img1, None)\n",
    "        kp2, des2 = orb.detectAndCompute(img2, None)\n",
    "        # Match descriptors.\n",
    "        bf = cv2.BFMatcher(cv2.NORM_HAMMING, crossCheck=True)\n",
    "        matches = bf.match(des1,des2)\n",
    "        # Sort them in the order of their distance.\n",
    "        matches = sorted(matches, key = lambda x:x.distance)\n",
    "        src_pts = np.float32([ kp1[m.queryIdx].pt for m in matches ])\n",
    "        dst_pts = np.float32([ kp2[m.trainIdx].pt for m in matches ])\n",
    "\n",
    "        diff_pts = dst_pts - src_pts\n",
    "\n",
    "        return np.mean(diff_pts[:10,0]), np.mean(diff_pts[:10,1])\n",
    "    \n",
    "    def plot_time(self):\n",
    "        x_frames = [i for i in range(len(self.frames)-1)]\n",
    "        plt.plot(x_frames, self.frame_processing_time)\n",
    "        plt.ylabel('time, seconds')\n",
    "        plt.xlabel('frame')\n",
    "        plt.show()\n",
    "        \n",
    "    def dumpVectors(self, filename):\n",
    "        with open(filename, mode='w', encoding='utf8', newline='') as f_dump:\n",
    "            writer = csv.writer(f_dump, delimiter='\\t')\n",
    "            writer.writerows(self.motion_vectors)\n",
    "    \n",
    "    @staticmethod\n",
    "    def shift_frame(frame, vec):\n",
    "        M = np.float32([[1,0,-vec[0]],[0,1,-vec[1]]])\n",
    "        dst = cv2.warpAffine(frame, M, frame.shape[::-1])\n",
    "        return dst\n",
    "        \n",
    "    def shift_frames(self):\n",
    "        self.shifted_frames.append(self.frames[0])\n",
    "        for i in range(len(self.motion_vectors)):\n",
    "            self.shifted_frames.append(self.shift_frame(self.frames[i], self.motion_vectors[i]))\n",
    "         \n",
    "    @staticmethod\n",
    "    def save_imgs_in_gif(filename, images):\n",
    "        with imageio.get_writer(os.path.join(WORKING_DIR, filename), mode='I') as writer:\n",
    "            for img in images:\n",
    "                writer.append_data(img)\n",
    "        "
   ]
  },
  {
   "cell_type": "code",
   "execution_count": 33,
   "metadata": {
    "collapsed": false
   },
   "outputs": [
    {
     "data": {
      "image/png": "[encoded data removed]",
      "text/plain": [
       "<matplotlib.figure.Figure at 0x18bc7a67e48>"
      ]
     },
     "metadata": {},
     "output_type": "display_data"
    }
   ],
   "source": [
    "motion_tracker = MotionTracker(input_imgs, 'before.gif', 'after.gif')\n",
    "motion_tracker.dumpVectors(OUTPUT_FILE)\n",
    "motion_tracker.plot_time()"
   ]
  },
  {
   "cell_type": "markdown",
   "metadata": {
    "collapsed": true
   },
   "source": [
    "<table>\n",
    "  <tr>\n",
    "    <th style=\"text-align:center\">Before</th>\n",
    "    <th style=\"text-align:center\">After</th>\n",
    "  </tr>\n",
    "  <tr>\n",
    "    <td><img src=\"before.gif\"></td>\n",
    "    <td><img src=\"after.gif\"></td>\n",
    "  </tr>\n",
    "</table>"
   ]
  }
 ],
 "metadata": {
  "anaconda-cloud": {},
  "kernelspec": {
   "display_name": "Python [conda root]",
   "language": "python",
   "name": "conda-root-py"
  },
  "language_info": {
   "codemirror_mode": {
    "name": "ipython",
    "version": 3
   },
   "file_extension": ".py",
   "mimetype": "text/x-python",
   "name": "python",
   "nbconvert_exporter": "python",
   "pygments_lexer": "ipython3",
   "version": "3.5.2"
  }
 },
 "nbformat": 4,
 "nbformat_minor": 1
}
