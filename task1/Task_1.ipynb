{
 "cells": [
  {
   "cell_type": "code",
   "execution_count": 12,
   "metadata": {
    "collapsed": true
   },
   "outputs": [],
   "source": [
    "import numpy as np\n",
    "import os.path\n",
    "from PIL import Image"
   ]
  },
  {
   "cell_type": "code",
   "execution_count": 13,
   "metadata": {
    "collapsed": true
   },
   "outputs": [],
   "source": [
    "DATA_DIR = '.'\n",
    "\n",
    "ORIGINAL = os.path.join(DATA_DIR, 'Original.bmp')\n",
    "FILTERED = os.path.join(DATA_DIR, 'RGB_CFA.bmp')"
   ]
  },
  {
   "cell_type": "code",
   "execution_count": 14,
   "metadata": {
    "collapsed": false
   },
   "outputs": [],
   "source": [
    "original = Image.open(ORIGINAL)\n",
    "filtered = Image.open(FILTERED)\n",
    "filtered_rgb = np.array(filtered.convert('RGB'), dtype='int64')\n",
    "original_rgb = np.array(original.convert('RGB'), dtype='int64')"
   ]
  },
  {
   "cell_type": "code",
   "execution_count": 15,
   "metadata": {
    "collapsed": false
   },
   "outputs": [],
   "source": [
    "def normalize_color(value):\n",
    "    value = min(value, 255)\n",
    "    return max(value, 0)\n",
    "\n",
    "# Compute unknown green values\n",
    "# rb_m, g_m -- flattened matrix 5x5 for conresponding blocks\n",
    "def calc_green(rb_m, g_m):\n",
    "    gradient = {}\n",
    "    gradient['N'] = abs(rb_m[12] - rb_m[2]) * 2 + abs(g_m[7] - g_m[17])\n",
    "    gradient['E'] = abs(rb_m[12] - rb_m[14]) * 2 + abs(g_m[11] - g_m[13])\n",
    "    gradient['W'] = abs(rb_m[12] - rb_m[10]) * 2 + abs(g_m[11] - g_m[13])\n",
    "    gradient['S'] = abs(rb_m[12] - rb_m[22]) * 2 + abs(g_m[7] - g_m[17])\n",
    "    \n",
    "    min_gradient = min(gradient, key=gradient.get)\n",
    "    g = 0\n",
    "    if min_gradient == 'N':\n",
    "        g = (g_m[7] * 3 + g_m[17] + rb_m[12] - rb_m[2]) / 4\n",
    "    elif min_gradient == 'E':\n",
    "        g = (g_m[13] * 3 + g_m[11] + rb_m[12] - rb_m[14]) / 4\n",
    "    elif min_gradient == 'W':\n",
    "        g = (g_m[11] * 3 + g_m[13] + rb_m[12] - rb_m[10]) / 4\n",
    "    elif min_gradient == 'S':\n",
    "        g = (g_m[17] * 3 + g_m[7] + rb_m[12] - rb_m[22]) / 4\n",
    "    return normalize_color(g)\n",
    "\n",
    "    \n",
    "def hue_transit(L, V):\n",
    "    if (L[0] < L[1] and L[1] < L[2]) or (L[0] > L[1] and L[1] > L[2]):\n",
    "        return V[0] + (V[1] - V[0]) * (L[1] - L[0]) / (L[2] - L[0])\n",
    "    else:\n",
    "        return (V[0] + V[1]) / 2 + (L[1] - (L[0] + L[2]) / 2) / 2\n",
    "    \n",
    "\n",
    "# Compute red and blue for initially green pixels\n",
    "# r_m, g_m, b_m -- flattened matrix 3x3 for conresponding blocks\n",
    "def calc_blue_and_red(r_m, g_m, b_m, isRed):\n",
    "    b = 0\n",
    "    r = 0\n",
    "    if isRed != Color.blue:\n",
    "        b = hue_transit((g_m[3], g_m[4], g_m[5]), (b_m[3], b_m[5]))\n",
    "        r = hue_transit((g_m[1], g_m[4], g_m[7]), (r_m[1], r_m[7]))\n",
    "    else:\n",
    "        r = hue_transit((g_m[3], g_m[4], g_m[5]), (r_m[3], r_m[5]))\n",
    "        b = hue_transit((g_m[1], g_m[4], g_m[7]), (b_m[1], b_m[7]))\n",
    "    return normalize_color(r), normalize_color(b)\n",
    "    \n",
    "\n",
    "# Compute red and blue for initially not green pixels\n",
    "# rb_m, g_m -- flattened matrix 5x5 for conresponding blocks\n",
    "def calc_red_or_blue(rb_m, g_m):\n",
    "    gradient = {}\n",
    "    gradient['NE'] = abs(rb_m[8] - rb_m[16]) + abs(rb_m[4] - rb_m[12]) + abs(rb_m[12] - rb_m[20]) + abs(g_m[8] - g_m[12]) + \\\n",
    "        abs(g_m[12] - g_m[16]) \n",
    "    gradient['NW'] = abs(rb_m[6] - rb_m[18]) + abs(rb_m[0] - rb_m[12]) + abs(rb_m[12] - rb_m[24]) + abs(g_m[6] - g_m[12]) + \\\n",
    "        abs(g_m[12] - g_m[18])\n",
    "    rb = 0\n",
    "    if gradient['NE'] < gradient['NW']:\n",
    "        rb =  hue_transit((g_m[8], g_m[12], g_m[16]), (rb_m[8], rb_m[16]))\n",
    "    else:\n",
    "        rb = hue_transit((g_m[6], g_m[12], g_m[18]), (rb_m[6], rb_m[18]))\n",
    "    return normalize_color(rb)"
   ]
  },
  {
   "cell_type": "code",
   "execution_count": 16,
   "metadata": {
    "collapsed": true
   },
   "outputs": [],
   "source": [
    "def to_list_9(m, y, x):\n",
    "    return m[y-1:y+2, x-1:x+2].flatten()  \n",
    "\n",
    "def to_list_25(m, y, x):\n",
    "    return m[y-2:y+3, x-2:x+3].flatten() "
   ]
  },
  {
   "cell_type": "code",
   "execution_count": 17,
   "metadata": {
    "collapsed": false
   },
   "outputs": [],
   "source": [
    "from enum import Enum\n",
    "\n",
    "\n",
    "class Color(Enum):\n",
    "    red, green, blue = range(3)\n",
    "\n",
    "    \n",
    "def get_cell_type(y, x):\n",
    "    if y % 2 == 0:\n",
    "        if x % 2 == 0:\n",
    "            return Color.red\n",
    "        else:\n",
    "            return Color.green\n",
    "    else:\n",
    "        if x % 2 == 0:\n",
    "            return Color.green\n",
    "        else:\n",
    "            return Color.blue"
   ]
  },
  {
   "cell_type": "code",
   "execution_count": 18,
   "metadata": {
    "collapsed": false
   },
   "outputs": [],
   "source": [
    "def ppg(img_rgb):\n",
    "    img_r = img_rgb[:, :, 0]\n",
    "    img_g = img_rgb[:, :, 1]\n",
    "    img_b = img_rgb[:, :, 2]\n",
    "    img_rb = img_r + img_b\n",
    "    for y in range(2, img_rgb.shape[0] - 2):\n",
    "        for x in range(2, img_rgb.shape[1] - 2):\n",
    "            if get_cell_type(y, x) != Color.green:\n",
    "                img_g[y][x] = calc_green(to_list_25(img_rb, y, x), to_list_25(img_g, y, x))\n",
    "    for y in range(2, img_rgb.shape[0] - 2):\n",
    "        for x in range(2, img_rgb.shape[1] - 2):\n",
    "            if get_cell_type(y, x) == Color.green:\n",
    "                img_r[y][x], img_b[y][x] = calc_blue_and_red(to_list_9(img_r, y, x), \n",
    "                                                             to_list_9(img_g, y, x), \n",
    "                                                             to_list_9(img_b, y, x),\n",
    "                                                             get_cell_type(y + 1, x))\n",
    "    for y in range(2, img_rgb.shape[0] - 2):\n",
    "        for x in range(2, img_rgb.shape[1] - 2):\n",
    "            if get_cell_type(y, x) != Color.green:\n",
    "                if get_cell_type(y, x) != Color.red:\n",
    "                    img_r[y][x] = calc_red_or_blue(to_list_25(img_rb, y, x), to_list_25(img_g, y, x))\n",
    "                else:\n",
    "                    img_b[y][x] = calc_red_or_blue(to_list_25(img_rb, y, x), to_list_25(img_g, y, x))\n",
    "    for y in range(2, img_rgb.shape[0]):\n",
    "        for x in range(2, img_rgb.shape[1]):\n",
    "            img_rgb[y][x][0] = img_r[y][x]\n",
    "            img_rgb[y][x][1] = img_g[y][x]\n",
    "            img_rgb[y][x][2] = img_b[y][x]"
   ]
  },
  {
   "cell_type": "code",
   "execution_count": 19,
   "metadata": {
    "collapsed": false
   },
   "outputs": [],
   "source": [
    "ppg(filtered_rgb)"
   ]
  },
  {
   "cell_type": "code",
   "execution_count": 20,
   "metadata": {
    "collapsed": false
   },
   "outputs": [],
   "source": [
    "filtered_rgb = filtered_rgb.astype('uint8')\n",
    "restored = Image.fromarray(filtered_rgb, mode='RGB')\n",
    "restored.show()\n",
    "restored.save('out.bmp')"
   ]
  },
  {
   "cell_type": "code",
   "execution_count": 21,
   "metadata": {
    "collapsed": true
   },
   "outputs": [],
   "source": [
    "import math\n",
    "\n",
    "def calc_luminance(rgb):\n",
    "    return 0.2126 * rgb[0] + 0.7152 * rgb[1] + 0.0722 * rgb[2]\n",
    "\n",
    "def PSNR(img1, img2):\n",
    "    diff_sum = 0\n",
    "    for y in range(img1.shape[0]):\n",
    "        for x in range(img1.shape[1]):\n",
    "            diff_sum += (calc_luminance(img1[y][x]) - calc_luminance(img2[y][x])) ** 2\n",
    "    if diff_sum == 0 or img1.shape[0] == 0 or img1.shape[1] == 0:\n",
    "        return None\n",
    "    MSE = diff_sum / img1.shape[0] / img1.shape[1]\n",
    "    return 20 * math.log(255, 10) - 10 * math.log(MSE, 10)"
   ]
  },
  {
   "cell_type": "code",
   "execution_count": 22,
   "metadata": {
    "collapsed": false
   },
   "outputs": [
    {
     "name": "stdout",
     "output_type": "stream",
     "text": [
      "23.63182062759023\n"
     ]
    }
   ],
   "source": [
    "print(PSNR(original_rgb, filtered_rgb))"
   ]
  }
 ],
 "metadata": {
  "kernelspec": {
   "display_name": "Python 3",
   "language": "python",
   "name": "python3"
  },
  "language_info": {
   "codemirror_mode": {
    "name": "ipython",
    "version": 3
   },
   "file_extension": ".py",
   "mimetype": "text/x-python",
   "name": "python",
   "nbconvert_exporter": "python",
   "pygments_lexer": "ipython3",
   "version": "3.5.1"
  }
 },
 "nbformat": 4,
 "nbformat_minor": 0
}
